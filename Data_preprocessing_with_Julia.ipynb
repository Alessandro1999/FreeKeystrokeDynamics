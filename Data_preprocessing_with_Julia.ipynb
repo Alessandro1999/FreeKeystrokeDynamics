{
  "cells": [
    {
      "cell_type": "markdown",
      "metadata": {
        "id": "view-in-github",
        "colab_type": "text"
      },
      "source": [
        "<a href=\"https://colab.research.google.com/github/Alessandro1999/FreeKeystrokeDynamics/blob/main/Data_preprocessing_with_Julia.ipynb\" target=\"_parent\"><img src=\"https://colab.research.google.com/assets/colab-badge.svg\" alt=\"Open In Colab\"/></a>"
      ]
    },
    {
      "cell_type": "markdown",
      "metadata": {
        "id": "GtsbgP5LhpC9"
      },
      "source": [
        "# Data preprocessing with Julia\n",
        "In this notebook, the data preprocessing will be performed with the Julia language to speed up the process.\n",
        "The final output of this stage will be a .csv file for each user containing a row for each typed sentence."
      ]
    },
    {
      "cell_type": "markdown",
      "metadata": {
        "id": "iEJxn9IKkE6D"
      },
      "source": [
        "## Installing Julia"
      ]
    },
    {
      "cell_type": "markdown",
      "metadata": {
        "id": "tQ1r1bbb0yBv"
      },
      "source": [
        "### <img src=\"https://github.com/JuliaLang/julia-logo-graphics/raw/master/images/julia-logo-color.png\" height=\"100\" /> _Colab Notebook Template_\n",
        "\n",
        "## Instructions\n",
        "1. Work on a copy of this notebook: _File_ > _Save a copy in Drive_ (you will need a Google account). Alternatively, you can download the notebook using _File_ > _Download .ipynb_, then upload it to [Colab](https://colab.research.google.com/).\n",
        "2. If you need a GPU: _Runtime_ > _Change runtime type_ > _Harware accelerator_ = _GPU_.\n",
        "3. Execute the following cell (click on it and press Ctrl+Enter) to install Julia, IJulia and other packages (if needed, update `JULIA_VERSION` and the other parameters). This takes a couple of minutes.\n",
        "4. Reload this page (press Ctrl+R, or ⌘+R, or the F5 key) and continue to the next section.\n",
        "\n",
        "_Notes_:\n",
        "* If your Colab Runtime gets reset (e.g., due to inactivity), repeat steps 2, 3 and 4.\n",
        "* After installation, if you want to change the Julia version or activate/deactivate the GPU, you will need to reset the Runtime: _Runtime_ > _Factory reset runtime_ and repeat steps 3 and 4."
      ]
    },
    {
      "cell_type": "code",
      "execution_count": null,
      "metadata": {
        "colab": {
          "base_uri": "https://localhost:8080/"
        },
        "id": "GIeFXS0F0zww",
        "outputId": "bffeed2d-7ed2-410e-a42d-5b081cb22694"
      },
      "outputs": [
        {
          "output_type": "stream",
          "name": "stdout",
          "text": [
            "Installing Julia 1.8.2 on the current Colab Runtime...\n",
            "2022-11-05 09:19:40 URL:https://storage.googleapis.com/julialang2/bin/linux/x64/1.8/julia-1.8.2-linux-x86_64.tar.gz [135859273/135859273] -> \"/tmp/julia.tar.gz\" [1]\n",
            "Installing Julia package IJulia...\n",
            "Installing Julia package BenchmarkTools...\n",
            "Installing Julia package Plots...\n",
            "Installing IJulia kernel...\n",
            "\u001b[36m\u001b[1m[ \u001b[22m\u001b[39m\u001b[36m\u001b[1mInfo: \u001b[22m\u001b[39mInstalling julia kernelspec in /root/.local/share/jupyter/kernels/julia-1.8\n",
            "\n",
            "Successfully installed julia version 1.8.2!\n",
            "Please reload this page (press Ctrl+R, ⌘+R, or the F5 key) then\n",
            "jump to the 'Checking the Installation' section.\n"
          ]
        },
        {
          "output_type": "execute_result",
          "data": {
            "text/plain": []
          },
          "metadata": {},
          "execution_count": 1
        }
      ],
      "source": [
        "%%shell\n",
        "\n",
        "#---------------------------------------------------#\n",
        "JULIA_VERSION=\"1.8.2\" # any version ≥ 0.7.0\n",
        "JULIA_PACKAGES=\"IJulia BenchmarkTools Plots\"\n",
        "JULIA_PACKAGES_IF_GPU=\"CUDA\" # or CuArrays for older Julia versions\n",
        "JULIA_NUM_THREADS=8\n",
        "#---------------------------------------------------#\n",
        "\n",
        "if [ -z `which julia` ]; then\n",
        "  # Install Julia\n",
        "  JULIA_VER=`cut -d '.' -f -2 <<< \"$JULIA_VERSION\"`\n",
        "  echo \"Installing Julia $JULIA_VERSION on the current Colab Runtime...\"\n",
        "  BASE_URL=\"https://julialang-s3.julialang.org/bin/linux/x64\"\n",
        "  URL=\"$BASE_URL/$JULIA_VER/julia-$JULIA_VERSION-linux-x86_64.tar.gz\"\n",
        "  wget -nv $URL -O /tmp/julia.tar.gz # -nv means \"not verbose\"\n",
        "  tar -x -f /tmp/julia.tar.gz -C /usr/local --strip-components 1\n",
        "  rm /tmp/julia.tar.gz\n",
        "\n",
        "  # Install Packages\n",
        "  GPU_LIST=`nvidia-smi -L 2> /dev/null`\n",
        "  if [ \"$?\" -eq \"0\" ]; then\n",
        "    JULIA_PACKAGES=\"$JULIA_PACKAGES $JULIA_PACKAGES_IF_GPU\"\n",
        "  fi\n",
        "  for PKG in `echo $JULIA_PACKAGES`; do\n",
        "    echo \"Installing Julia package $PKG...\"\n",
        "    julia -e 'using Pkg; pkg\"add '$PKG'; precompile;\"' &> /dev/null\n",
        "  done\n",
        "\n",
        "  # Install kernel and rename it to \"julia\"\n",
        "  echo \"Installing IJulia kernel...\"\n",
        "  julia -e 'using IJulia; IJulia.installkernel(\"julia\", env=Dict(\n",
        "      \"JULIA_NUM_THREADS\"=>\"'\"$JULIA_NUM_THREADS\"'\"))'\n",
        "  KERNEL_DIR=`julia -e \"using IJulia; print(IJulia.kerneldir())\"`\n",
        "  KERNEL_NAME=`ls -d \"$KERNEL_DIR\"/julia*`\n",
        "  mv -f $KERNEL_NAME \"$KERNEL_DIR\"/julia  \n",
        "\n",
        "  echo ''\n",
        "  echo \"Successfully installed `julia -v`!\"\n",
        "  echo \"Please reload this page (press Ctrl+R, ⌘+R, or the F5 key) then\"\n",
        "  echo \"jump to the 'Checking the Installation' section.\"\n",
        "fi"
      ]
    },
    {
      "cell_type": "markdown",
      "metadata": {
        "id": "-OS3Ac017T1i"
      },
      "source": [
        "### Checking the Installation\n",
        "The `versioninfo()` function should print your Julia version and some other info about the system:"
      ]
    },
    {
      "cell_type": "code",
      "execution_count": null,
      "metadata": {
        "colab": {
          "base_uri": "https://localhost:8080/"
        },
        "id": "EEzvvzCl1i0F",
        "outputId": "dec3d85d-a521-4837-bbb9-3190d21aa14c"
      },
      "outputs": [
        {
          "output_type": "stream",
          "name": "stdout",
          "text": [
            "Julia Version 1.8.2\n",
            "Commit 36034abf260 (2022-09-29 15:21 UTC)\n",
            "Platform Info:\n",
            "  OS: Linux (x86_64-linux-gnu)\n",
            "  CPU: 2 × Intel(R) Xeon(R) CPU @ 2.20GHz\n",
            "  WORD_SIZE: 64\n",
            "  LIBM: libopenlibm\n",
            "  LLVM: libLLVM-13.0.1 (ORCJIT, broadwell)\n",
            "  Threads: 8 on 2 virtual cores\n",
            "Environment:\n",
            "  LD_LIBRARY_PATH = /usr/local/nvidia/lib:/usr/local/nvidia/lib64\n",
            "  LD_PRELOAD = /usr/lib/x86_64-linux-gnu/libtcmalloc.so.4\n",
            "  JULIA_NUM_THREADS = 8\n"
          ]
        }
      ],
      "source": [
        "versioninfo()"
      ]
    },
    {
      "cell_type": "markdown",
      "metadata": {
        "id": "rsMB8aSEkDmG"
      },
      "source": [
        "## Take the dataset from drive"
      ]
    },
    {
      "cell_type": "markdown",
      "metadata": {
        "id": "I9OklSg0yQL7"
      },
      "source": [
        "Download the dataset"
      ]
    },
    {
      "cell_type": "code",
      "execution_count": null,
      "metadata": {
        "colab": {
          "base_uri": "https://localhost:8080/"
        },
        "id": "t3q2JPcRkaZn",
        "outputId": "2ac810bb-4b6c-466a-890a-3283332224ba"
      },
      "outputs": [
        {
          "output_type": "stream",
          "name": "stderr",
          "text": [
            "Downloading...\n",
            "From: https://drive.google.com/uc?id=11SjBTq8AdgFcirmnClYl97VAzj6YpM9D\n",
            "To: /content/Keystrokes.zip\n",
            "100%|██████████████████████████████████████| 1.57G/1.57G [00:10<00:00, 152MB/s]\n"
          ]
        }
      ],
      "source": [
        "; gdown \"https://drive.google.com/uc?id=11SjBTq8AdgFcirmnClYl97VAzj6YpM9D\""
      ]
    },
    {
      "cell_type": "markdown",
      "metadata": {
        "id": "oykgEfh1yT_P"
      },
      "source": [
        "Unzip it"
      ]
    },
    {
      "cell_type": "code",
      "execution_count": null,
      "metadata": {
        "id": "leZzuPlPk8uU"
      },
      "outputs": [],
      "source": [
        "; unzip -q Keystrokes.zip"
      ]
    },
    {
      "cell_type": "markdown",
      "metadata": {
        "id": "HY-BDPeozTeQ"
      },
      "source": [
        "## Download and import packages"
      ]
    },
    {
      "cell_type": "code",
      "execution_count": null,
      "metadata": {
        "colab": {
          "base_uri": "https://localhost:8080/"
        },
        "id": "dtIZXKxUzW4i",
        "outputId": "e5403f4e-e14b-4b86-d103-6e11eb216306"
      },
      "outputs": [
        {
          "output_type": "stream",
          "name": "stderr",
          "text": [
            "\u001b[32m\u001b[1m    Updating\u001b[22m\u001b[39m registry at `~/.julia/registries/General.toml`\n",
            "\u001b[32m\u001b[1m   Resolving\u001b[22m\u001b[39m package versions...\n",
            "\u001b[32m\u001b[1m  No Changes\u001b[22m\u001b[39m to `~/.julia/environments/v1.8/Project.toml`\n",
            "\u001b[32m\u001b[1m  No Changes\u001b[22m\u001b[39m to `~/.julia/environments/v1.8/Manifest.toml`\n",
            "\u001b[32m\u001b[1m   Resolving\u001b[22m\u001b[39m package versions...\n",
            "\u001b[32m\u001b[1m  No Changes\u001b[22m\u001b[39m to `~/.julia/environments/v1.8/Project.toml`\n",
            "\u001b[32m\u001b[1m  No Changes\u001b[22m\u001b[39m to `~/.julia/environments/v1.8/Manifest.toml`\n",
            "\u001b[32m\u001b[1m   Resolving\u001b[22m\u001b[39m package versions...\n",
            "\u001b[32m\u001b[1m  No Changes\u001b[22m\u001b[39m to `~/.julia/environments/v1.8/Project.toml`\n",
            "\u001b[32m\u001b[1m  No Changes\u001b[22m\u001b[39m to `~/.julia/environments/v1.8/Manifest.toml`\n",
            "\u001b[32m\u001b[1m   Resolving\u001b[22m\u001b[39m package versions...\n",
            "\u001b[32m\u001b[1m  No Changes\u001b[22m\u001b[39m to `~/.julia/environments/v1.8/Project.toml`\n",
            "\u001b[32m\u001b[1m  No Changes\u001b[22m\u001b[39m to `~/.julia/environments/v1.8/Manifest.toml`\n",
            "\u001b[32m\u001b[1m   Resolving\u001b[22m\u001b[39m package versions...\n",
            "\u001b[32m\u001b[1m  No Changes\u001b[22m\u001b[39m to `~/.julia/environments/v1.8/Project.toml`\n",
            "\u001b[32m\u001b[1m  No Changes\u001b[22m\u001b[39m to `~/.julia/environments/v1.8/Manifest.toml`\n"
          ]
        }
      ],
      "source": [
        "using Pkg\n",
        "Pkg.add(\"Ranges\")\n",
        "Pkg.add(\"CSV\")\n",
        "Pkg.add(\"DataFrames\")\n",
        "Pkg.add(\"ProgressMeter\")\n",
        "Pkg.add(\"PyCall\")\n",
        "\n",
        "using Ranges\n",
        "using CSV\n",
        "using DataFrames\n",
        "using ProgressMeter\n",
        "using PyCall"
      ]
    },
    {
      "cell_type": "markdown",
      "metadata": {
        "id": "OQc7FmL4zpJD"
      },
      "source": [
        "## Data preprocessing"
      ]
    },
    {
      "cell_type": "code",
      "execution_count": null,
      "metadata": {
        "cellView": "form",
        "colab": {
          "base_uri": "https://localhost:8080/",
          "height": 534
        },
        "id": "BIkquciXyZkC",
        "outputId": "713284d4-178d-4558-f1b5-f9f3cc7b8c8e"
      },
      "outputs": [
        {
          "data": {
            "text/html": [
              "<div><div style = \"float: left;\"><span>21×9 DataFrame</span></div><div style = \"clear: both;\"></div></div><div class = \"data-frame\" style = \"overflow-x: scroll;\"><table class = \"data-frame\" style = \"margin-bottom: 6px;\"><thead><tr class = \"header\"><th class = \"rowNumber\" style = \"font-weight: bold; text-align: right;\">Row</th><th style = \"text-align: left;\">PARTICIPANT_ID</th><th style = \"text-align: left;\">TEST_SECTION_ID</th><th style = \"text-align: left;\">SENTENCE</th><th style = \"text-align: left;\">USER_INPUT</th><th style = \"text-align: left;\">KEYSTROKE_ID</th><th style = \"text-align: left;\">PRESS_TIME</th><th style = \"text-align: left;\">RELEASE_TIME</th><th style = \"text-align: left;\">LETTER</th><th style = \"text-align: left;\">KEYCODE</th></tr><tr class = \"subheader headerLastRow\"><th class = \"rowNumber\" style = \"font-weight: bold; text-align: right;\"></th><th title = \"Int64\" style = \"text-align: left;\">Int64</th><th title = \"Int64\" style = \"text-align: left;\">Int64</th><th title = \"String\" style = \"text-align: left;\">String</th><th title = \"String\" style = \"text-align: left;\">String</th><th title = \"Int64\" style = \"text-align: left;\">Int64</th><th title = \"Int64\" style = \"text-align: left;\">Int64</th><th title = \"Int64\" style = \"text-align: left;\">Int64</th><th title = \"String15\" style = \"text-align: left;\">String15</th><th title = \"Int64\" style = \"text-align: left;\">Int64</th></tr></thead><tbody><tr><td class = \"rowNumber\" style = \"font-weight: bold; text-align: right;\">1</td><td style = \"text-align: right;\">2200</td><td style = \"text-align: right;\">22307</td><td style = \"text-align: left;\">What are the units?</td><td style = \"text-align: left;\">What are the units?</td><td style = \"text-align: right;\">1063868</td><td style = \"text-align: right;\">1471961564282</td><td style = \"text-align: right;\">1471961564656</td><td style = \"text-align: left;\">SHIFT</td><td style = \"text-align: right;\">16</td></tr><tr><td class = \"rowNumber\" style = \"font-weight: bold; text-align: right;\">2</td><td style = \"text-align: right;\">2200</td><td style = \"text-align: right;\">22307</td><td style = \"text-align: left;\">What are the units?</td><td style = \"text-align: left;\">What are the units?</td><td style = \"text-align: right;\">1063875</td><td style = \"text-align: right;\">1471961564552</td><td style = \"text-align: right;\">1471961564657</td><td style = \"text-align: left;\">W</td><td style = \"text-align: right;\">87</td></tr><tr><td class = \"rowNumber\" style = \"font-weight: bold; text-align: right;\">3</td><td style = \"text-align: right;\">2200</td><td style = \"text-align: right;\">22307</td><td style = \"text-align: left;\">What are the units?</td><td style = \"text-align: left;\">What are the units?</td><td style = \"text-align: right;\">1063882</td><td style = \"text-align: right;\">1471961564912</td><td style = \"text-align: right;\">1471961565000</td><td style = \"text-align: left;\">h</td><td style = \"text-align: right;\">72</td></tr><tr><td class = \"rowNumber\" style = \"font-weight: bold; text-align: right;\">4</td><td style = \"text-align: right;\">2200</td><td style = \"text-align: right;\">22307</td><td style = \"text-align: left;\">What are the units?</td><td style = \"text-align: left;\">What are the units?</td><td style = \"text-align: right;\">1063888</td><td style = \"text-align: right;\">1471961565001</td><td style = \"text-align: right;\">1471961565120</td><td style = \"text-align: left;\">a</td><td style = \"text-align: right;\">65</td></tr><tr><td class = \"rowNumber\" style = \"font-weight: bold; text-align: right;\">5</td><td style = \"text-align: right;\">2200</td><td style = \"text-align: right;\">22307</td><td style = \"text-align: left;\">What are the units?</td><td style = \"text-align: left;\">What are the units?</td><td style = \"text-align: right;\">1063891</td><td style = \"text-align: right;\">1471961565272</td><td style = \"text-align: right;\">1471961565336</td><td style = \"text-align: left;\">t</td><td style = \"text-align: right;\">84</td></tr><tr><td class = \"rowNumber\" style = \"font-weight: bold; text-align: right;\">6</td><td style = \"text-align: right;\">2200</td><td style = \"text-align: right;\">22307</td><td style = \"text-align: left;\">What are the units?</td><td style = \"text-align: left;\">What are the units?</td><td style = \"text-align: right;\">1063897</td><td style = \"text-align: right;\">1471961565337</td><td style = \"text-align: right;\">1471961565424</td><td style = \"text-align: left;\"> </td><td style = \"text-align: right;\">32</td></tr><tr><td class = \"rowNumber\" style = \"font-weight: bold; text-align: right;\">7</td><td style = \"text-align: right;\">2200</td><td style = \"text-align: right;\">22307</td><td style = \"text-align: left;\">What are the units?</td><td style = \"text-align: left;\">What are the units?</td><td style = \"text-align: right;\">1063931</td><td style = \"text-align: right;\">1471961565480</td><td style = \"text-align: right;\">1471961565584</td><td style = \"text-align: left;\">a</td><td style = \"text-align: right;\">65</td></tr><tr><td class = \"rowNumber\" style = \"font-weight: bold; text-align: right;\">8</td><td style = \"text-align: right;\">2200</td><td style = \"text-align: right;\">22307</td><td style = \"text-align: left;\">What are the units?</td><td style = \"text-align: left;\">What are the units?</td><td style = \"text-align: right;\">1063937</td><td style = \"text-align: right;\">1471961565656</td><td style = \"text-align: right;\">1471961565720</td><td style = \"text-align: left;\">r</td><td style = \"text-align: right;\">82</td></tr><tr><td class = \"rowNumber\" style = \"font-weight: bold; text-align: right;\">9</td><td style = \"text-align: right;\">2200</td><td style = \"text-align: right;\">22307</td><td style = \"text-align: left;\">What are the units?</td><td style = \"text-align: left;\">What are the units?</td><td style = \"text-align: right;\">1063943</td><td style = \"text-align: right;\">1471961565696</td><td style = \"text-align: right;\">1471961565808</td><td style = \"text-align: left;\">e</td><td style = \"text-align: right;\">69</td></tr><tr><td class = \"rowNumber\" style = \"font-weight: bold; text-align: right;\">10</td><td style = \"text-align: right;\">2200</td><td style = \"text-align: right;\">22307</td><td style = \"text-align: left;\">What are the units?</td><td style = \"text-align: left;\">What are the units?</td><td style = \"text-align: right;\">1063951</td><td style = \"text-align: right;\">1471961565809</td><td style = \"text-align: right;\">1471961565872</td><td style = \"text-align: left;\"> </td><td style = \"text-align: right;\">32</td></tr><tr><td class = \"rowNumber\" style = \"font-weight: bold; text-align: right;\">11</td><td style = \"text-align: right;\">2200</td><td style = \"text-align: right;\">22307</td><td style = \"text-align: left;\">What are the units?</td><td style = \"text-align: left;\">What are the units?</td><td style = \"text-align: right;\">1063956</td><td style = \"text-align: right;\">1471961565928</td><td style = \"text-align: right;\">1471961565992</td><td style = \"text-align: left;\">t</td><td style = \"text-align: right;\">84</td></tr><tr><td class = \"rowNumber\" style = \"font-weight: bold; text-align: right;\">12</td><td style = \"text-align: right;\">2200</td><td style = \"text-align: right;\">22307</td><td style = \"text-align: left;\">What are the units?</td><td style = \"text-align: left;\">What are the units?</td><td style = \"text-align: right;\">1064009</td><td style = \"text-align: right;\">1471961565997</td><td style = \"text-align: right;\">1471961566064</td><td style = \"text-align: left;\">h</td><td style = \"text-align: right;\">72</td></tr><tr><td class = \"rowNumber\" style = \"font-weight: bold; text-align: right;\">13</td><td style = \"text-align: right;\">2200</td><td style = \"text-align: right;\">22307</td><td style = \"text-align: left;\">What are the units?</td><td style = \"text-align: left;\">What are the units?</td><td style = \"text-align: right;\">1064011</td><td style = \"text-align: right;\">1471961566088</td><td style = \"text-align: right;\">1471961566168</td><td style = \"text-align: left;\">e</td><td style = \"text-align: right;\">69</td></tr><tr><td class = \"rowNumber\" style = \"font-weight: bold; text-align: right;\">14</td><td style = \"text-align: right;\">2200</td><td style = \"text-align: right;\">22307</td><td style = \"text-align: left;\">What are the units?</td><td style = \"text-align: left;\">What are the units?</td><td style = \"text-align: right;\">1064017</td><td style = \"text-align: right;\">1471961566200</td><td style = \"text-align: right;\">1471961566272</td><td style = \"text-align: left;\"> </td><td style = \"text-align: right;\">32</td></tr><tr><td class = \"rowNumber\" style = \"font-weight: bold; text-align: right;\">15</td><td style = \"text-align: right;\">2200</td><td style = \"text-align: right;\">22307</td><td style = \"text-align: left;\">What are the units?</td><td style = \"text-align: left;\">What are the units?</td><td style = \"text-align: right;\">1064025</td><td style = \"text-align: right;\">1471961566584</td><td style = \"text-align: right;\">1471961566664</td><td style = \"text-align: left;\">u</td><td style = \"text-align: right;\">85</td></tr><tr><td class = \"rowNumber\" style = \"font-weight: bold; text-align: right;\">16</td><td style = \"text-align: right;\">2200</td><td style = \"text-align: right;\">22307</td><td style = \"text-align: left;\">What are the units?</td><td style = \"text-align: left;\">What are the units?</td><td style = \"text-align: right;\">1064030</td><td style = \"text-align: right;\">1471961566752</td><td style = \"text-align: right;\">1471961566800</td><td style = \"text-align: left;\">n</td><td style = \"text-align: right;\">78</td></tr><tr><td class = \"rowNumber\" style = \"font-weight: bold; text-align: right;\">17</td><td style = \"text-align: right;\">2200</td><td style = \"text-align: right;\">22307</td><td style = \"text-align: left;\">What are the units?</td><td style = \"text-align: left;\">What are the units?</td><td style = \"text-align: right;\">1064346</td><td style = \"text-align: right;\">1471961566952</td><td style = \"text-align: right;\">1471961567040</td><td style = \"text-align: left;\">i</td><td style = \"text-align: right;\">73</td></tr><tr><td class = \"rowNumber\" style = \"font-weight: bold; text-align: right;\">18</td><td style = \"text-align: right;\">2200</td><td style = \"text-align: right;\">22307</td><td style = \"text-align: left;\">What are the units?</td><td style = \"text-align: left;\">What are the units?</td><td style = \"text-align: right;\">1064352</td><td style = \"text-align: right;\">1471961567232</td><td style = \"text-align: right;\">1471961567312</td><td style = \"text-align: left;\">t</td><td style = \"text-align: right;\">84</td></tr><tr><td class = \"rowNumber\" style = \"font-weight: bold; text-align: right;\">19</td><td style = \"text-align: right;\">2200</td><td style = \"text-align: right;\">22307</td><td style = \"text-align: left;\">What are the units?</td><td style = \"text-align: left;\">What are the units?</td><td style = \"text-align: right;\">1064358</td><td style = \"text-align: right;\">1471961567424</td><td style = \"text-align: right;\">1471961567512</td><td style = \"text-align: left;\">s</td><td style = \"text-align: right;\">83</td></tr><tr><td class = \"rowNumber\" style = \"font-weight: bold; text-align: right;\">20</td><td style = \"text-align: right;\">2200</td><td style = \"text-align: right;\">22307</td><td style = \"text-align: left;\">What are the units?</td><td style = \"text-align: left;\">What are the units?</td><td style = \"text-align: right;\">1064369</td><td style = \"text-align: right;\">1471961567919</td><td style = \"text-align: right;\">1471961568136</td><td style = \"text-align: left;\">SHIFT</td><td style = \"text-align: right;\">16</td></tr><tr><td class = \"rowNumber\" style = \"font-weight: bold; text-align: right;\">21</td><td style = \"text-align: right;\">2200</td><td style = \"text-align: right;\">22307</td><td style = \"text-align: left;\">What are the units?</td><td style = \"text-align: left;\">What are the units?</td><td style = \"text-align: right;\">1064377</td><td style = \"text-align: right;\">1471961568104</td><td style = \"text-align: right;\">1471961568216</td><td style = \"text-align: left;\">?</td><td style = \"text-align: right;\">191</td></tr></tbody></table></div>"
            ],
            "text/latex": "\\begin{tabular}{r|cccccc}\n\t& PARTICIPANT\\_ID & TEST\\_SECTION\\_ID & SENTENCE & USER\\_INPUT & KEYSTROKE\\_ID & \\\\\n\t\\hline\n\t& Int64 & Int64 & String & String & Int64 & \\\\\n\t\\hline\n\t1 & 2200 & 22307 & What are the units? & What are the units? & 1063868 & $\\dots$ \\\\\n\t2 & 2200 & 22307 & What are the units? & What are the units? & 1063875 & $\\dots$ \\\\\n\t3 & 2200 & 22307 & What are the units? & What are the units? & 1063882 & $\\dots$ \\\\\n\t4 & 2200 & 22307 & What are the units? & What are the units? & 1063888 & $\\dots$ \\\\\n\t5 & 2200 & 22307 & What are the units? & What are the units? & 1063891 & $\\dots$ \\\\\n\t6 & 2200 & 22307 & What are the units? & What are the units? & 1063897 & $\\dots$ \\\\\n\t7 & 2200 & 22307 & What are the units? & What are the units? & 1063931 & $\\dots$ \\\\\n\t8 & 2200 & 22307 & What are the units? & What are the units? & 1063937 & $\\dots$ \\\\\n\t9 & 2200 & 22307 & What are the units? & What are the units? & 1063943 & $\\dots$ \\\\\n\t10 & 2200 & 22307 & What are the units? & What are the units? & 1063951 & $\\dots$ \\\\\n\t11 & 2200 & 22307 & What are the units? & What are the units? & 1063956 & $\\dots$ \\\\\n\t12 & 2200 & 22307 & What are the units? & What are the units? & 1064009 & $\\dots$ \\\\\n\t13 & 2200 & 22307 & What are the units? & What are the units? & 1064011 & $\\dots$ \\\\\n\t14 & 2200 & 22307 & What are the units? & What are the units? & 1064017 & $\\dots$ \\\\\n\t15 & 2200 & 22307 & What are the units? & What are the units? & 1064025 & $\\dots$ \\\\\n\t16 & 2200 & 22307 & What are the units? & What are the units? & 1064030 & $\\dots$ \\\\\n\t17 & 2200 & 22307 & What are the units? & What are the units? & 1064346 & $\\dots$ \\\\\n\t18 & 2200 & 22307 & What are the units? & What are the units? & 1064352 & $\\dots$ \\\\\n\t19 & 2200 & 22307 & What are the units? & What are the units? & 1064358 & $\\dots$ \\\\\n\t20 & 2200 & 22307 & What are the units? & What are the units? & 1064369 & $\\dots$ \\\\\n\t21 & 2200 & 22307 & What are the units? & What are the units? & 1064377 & $\\dots$ \\\\\n\\end{tabular}\n",
            "text/plain": [
              "\u001b[1m21×9 DataFrame\u001b[0m\n",
              "\u001b[1m Row \u001b[0m│\u001b[1m PARTICIPANT_ID \u001b[0m\u001b[1m TEST_SECTION_ID \u001b[0m\u001b[1m SENTENCE            \u001b[0m\u001b[1m USER_INPUT       \u001b[0m ⋯\n",
              "     │\u001b[90m Int64          \u001b[0m\u001b[90m Int64           \u001b[0m\u001b[90m String              \u001b[0m\u001b[90m String           \u001b[0m ⋯\n",
              "─────┼──────────────────────────────────────────────────────────────────────────\n",
              "   1 │           2200            22307  What are the units?  What are the unit ⋯\n",
              "   2 │           2200            22307  What are the units?  What are the unit\n",
              "   3 │           2200            22307  What are the units?  What are the unit\n",
              "   4 │           2200            22307  What are the units?  What are the unit\n",
              "   5 │           2200            22307  What are the units?  What are the unit ⋯\n",
              "   6 │           2200            22307  What are the units?  What are the unit\n",
              "   7 │           2200            22307  What are the units?  What are the unit\n",
              "   8 │           2200            22307  What are the units?  What are the unit\n",
              "   9 │           2200            22307  What are the units?  What are the unit ⋯\n",
              "  10 │           2200            22307  What are the units?  What are the unit\n",
              "  11 │           2200            22307  What are the units?  What are the unit\n",
              "  12 │           2200            22307  What are the units?  What are the unit\n",
              "  13 │           2200            22307  What are the units?  What are the unit ⋯\n",
              "  14 │           2200            22307  What are the units?  What are the unit\n",
              "  15 │           2200            22307  What are the units?  What are the unit\n",
              "  16 │           2200            22307  What are the units?  What are the unit\n",
              "  17 │           2200            22307  What are the units?  What are the unit ⋯\n",
              "  18 │           2200            22307  What are the units?  What are the unit\n",
              "  19 │           2200            22307  What are the units?  What are the unit\n",
              "  20 │           2200            22307  What are the units?  What are the unit\n",
              "  21 │           2200            22307  What are the units?  What are the unit ⋯\n",
              "\u001b[36m                                                               6 columns omitted\u001b[0m"
            ]
          },
          "execution_count": 5,
          "metadata": {},
          "output_type": "execute_result"
        }
      ],
      "source": [
        "#@title Visualize data of a specific user\n",
        "id = 2200 #@param\n",
        "rows_to_show = 21 #@param\n",
        "df = DataFrame(CSV.File(\"Keystrokes/files/\"*string(id)*\"_keystrokes.txt\",delim=\"\\t\"))\n",
        "                                \n",
        "first(df,rows_to_show)"
      ]
    },
    {
      "cell_type": "code",
      "execution_count": null,
      "metadata": {
        "cellView": "form",
        "colab": {
          "base_uri": "https://localhost:8080/"
        },
        "id": "M_GNBO_x006T",
        "outputId": "1bf1907d-a8cb-4a3b-eeb9-c423e3b1a128"
      },
      "outputs": [
        {
          "output_type": "execute_result",
          "data": {
            "text/plain": [
              "convert_user_df (generic function with 1 method)"
            ]
          },
          "metadata": {},
          "execution_count": 2
        }
      ],
      "source": [
        "#@title Function to convert a single dataframe\n",
        "function convert_user_df(df::DataFrame)\n",
        "    df[!, \"DWELL_TIME\"] = df[!, \"RELEASE_TIME\"] - df[!, \"PRESS_TIME\"]\n",
        "    sentences::Set{Int32} = Set(df.TEST_SECTION_ID)\n",
        "    data = Vector{Any}()\n",
        "    for sentence_id in sentences\n",
        "        df_s = filter(row -> row.TEST_SECTION_ID == sentence_id, df)\n",
        "        n_rows = nrow(df_s)\n",
        "        timings = []\n",
        "        row = Vector{Any}(df_s[1, [1,2,3,4]])\n",
        "        for r in range(1,stop=n_rows,step=1)\n",
        "            l = df_s[r, \"LETTER\"]\n",
        "            keycode = df_s[r, \"KEYCODE\"]\n",
        "            pt = df_s[r, \"PRESS_TIME\"]\n",
        "            wt = 0\n",
        "            if r != 1\n",
        "                previous_rt = df_s[r-1, \"RELEASE_TIME\"]\n",
        "                wt = pt - previous_rt\n",
        "            end\n",
        "            dt = df_s[r, \"DWELL_TIME\"]\n",
        "            push!(timings, (l, keycode, dt, wt))\n",
        "        end\n",
        "        push!(row, timings)\n",
        "        push!(data, row)\n",
        "    end\n",
        "    out_df = DataFrame(PARTICIPANT_ID = Int[], TEST_SECTION_ID = Int[], SENTENCE = String[], USER_INPUT = String[], TIMINGS = Vector{Any}())\n",
        "    for row in data\n",
        "        push!(out_df,row)\n",
        "    end\n",
        "    return out_df\n",
        "end"
      ]
    },
    {
      "cell_type": "markdown",
      "metadata": {
        "id": "EpuZS3us3Wh_"
      },
      "source": [
        "Then, we will apply this function to all the users.\n",
        "\n",
        "However, there are some files that have a \\n more, resulting in an error when we try to parse them, that's why I've also written a python function to fix the error"
      ]
    },
    {
      "cell_type": "code",
      "execution_count": null,
      "metadata": {
        "cellView": "form",
        "id": "GUnOGx-q_vT2"
      },
      "outputs": [],
      "source": [
        "#@title Function to fix the error in the dataset\n",
        "py\"\"\"\n",
        "def fix_file(src_path : str, trg_path : str = None):\n",
        "    if trg_path == None:\n",
        "        trg_path = src_path\n",
        "    lines = []\n",
        "    before = None\n",
        "    with open(src_path,\"r\",encoding=\"iso-8859-1\") as r:\n",
        "        for i,line in enumerate(r.readlines()): # read every line of the file\n",
        "            if len(line) < 10 and before != None: # the line is too short, there is probably a \\n more\n",
        "                lines.append(before[:-1] + line) # remove the \\n from the previous line and append the current one\n",
        "                before = lines[-1]\n",
        "            elif before != None: # update the previous row variable\n",
        "                lines.append(before)\n",
        "                before = line\n",
        "            elif i == 0: # previous row variable initialization\n",
        "                before = line\n",
        "    with open(trg_path,\"w\") as w: # write the lines\n",
        "        w.writelines(lines)\n",
        "\"\"\""
      ]
    },
    {
      "cell_type": "markdown",
      "metadata": {
        "id": "EOTS1EhiAizS"
      },
      "source": [
        "### Example of an error fixed"
      ]
    },
    {
      "cell_type": "markdown",
      "metadata": {
        "id": "cWlbBjfRAmbz"
      },
      "source": [
        "Let's take the file of the user 107740:"
      ]
    },
    {
      "cell_type": "code",
      "execution_count": null,
      "metadata": {
        "colab": {
          "base_uri": "https://localhost:8080/",
          "height": 919
        },
        "id": "mwY8CFDMAufj",
        "outputId": "3599aeaf-c07b-415f-c582-e6f5d2cd6d29"
      },
      "outputs": [
        {
          "name": "stderr",
          "output_type": "stream",
          "text": [
            "┌ Warning: thread = 2 warning: only found 8 / 9 columns around data row: 293. Filling remaining columns with `missing`\n",
            "└ @ CSV /root/.julia/packages/CSV/mgO6B/src/file.jl:579\n",
            "┌ Warning: thread = 2 warning: only found 2 / 9 columns around data row: 294. Filling remaining columns with `missing`\n",
            "└ @ CSV /root/.julia/packages/CSV/mgO6B/src/file.jl:579\n"
          ]
        },
        {
          "data": {
            "text/html": [
              "<div><div style = \"float: left;\"><span>618×9 DataFrame</span></div><div style = \"float: right;\"><span style = \"font-style: italic;\">593 rows omitted</span></div><div style = \"clear: both;\"></div></div><div class = \"data-frame\" style = \"overflow-x: scroll;\"><table class = \"data-frame\" style = \"margin-bottom: 6px;\"><thead><tr class = \"header\"><th class = \"rowNumber\" style = \"font-weight: bold; text-align: right;\">Row</th><th style = \"text-align: left;\">PARTICIPANT_ID</th><th style = \"text-align: left;\">TEST_SECTION_ID</th><th style = \"text-align: left;\">SENTENCE</th><th style = \"text-align: left;\">USER_INPUT</th><th style = \"text-align: left;\">KEYSTROKE_ID</th><th style = \"text-align: left;\">PRESS_TIME</th><th style = \"text-align: left;\">RELEASE_TIME</th><th style = \"text-align: left;\">LETTER</th><th style = \"text-align: left;\">KEYCODE</th></tr><tr class = \"subheader headerLastRow\"><th class = \"rowNumber\" style = \"font-weight: bold; text-align: right;\"></th><th title = \"Union{Missing, Int64}\" style = \"text-align: left;\">Int64?</th><th title = \"Int64\" style = \"text-align: left;\">Int64</th><th title = \"Union{Missing, String}\" style = \"text-align: left;\">String?</th><th title = \"Union{Missing, String}\" style = \"text-align: left;\">String?</th><th title = \"Union{Missing, Int64}\" style = \"text-align: left;\">Int64?</th><th title = \"Union{Missing, Int64}\" style = \"text-align: left;\">Int64?</th><th title = \"Union{Missing, Int64}\" style = \"text-align: left;\">Int64?</th><th title = \"Union{Missing, String7}\" style = \"text-align: left;\">String7?</th><th title = \"Union{Missing, Int64}\" style = \"text-align: left;\">Int64?</th></tr></thead><tbody><tr><td class = \"rowNumber\" style = \"font-weight: bold; text-align: right;\">1</td><td style = \"text-align: right;\">107740</td><td style = \"text-align: right;\">1175419</td><td style = \"text-align: left;\">Have a good weekend.</td><td style = \"text-align: left;\">Have a good weekend.</td><td style = \"text-align: right;\">55892037</td><td style = \"text-align: right;\">1473359887796</td><td style = \"text-align: right;\">1473359888251</td><td style = \"text-align: left;\">SHIFT</td><td style = \"text-align: right;\">16</td></tr><tr><td class = \"rowNumber\" style = \"font-weight: bold; text-align: right;\">2</td><td style = \"text-align: right;\">107740</td><td style = \"text-align: right;\">1175419</td><td style = \"text-align: left;\">Have a good weekend.</td><td style = \"text-align: left;\">Have a good weekend.</td><td style = \"text-align: right;\">55892042</td><td style = \"text-align: right;\">1473359888100</td><td style = \"text-align: right;\">1473359888259</td><td style = \"text-align: left;\">H</td><td style = \"text-align: right;\">72</td></tr><tr><td class = \"rowNumber\" style = \"font-weight: bold; text-align: right;\">3</td><td style = \"text-align: right;\">107740</td><td style = \"text-align: right;\">1175419</td><td style = \"text-align: left;\">Have a good weekend.</td><td style = \"text-align: left;\">Have a good weekend.</td><td style = \"text-align: right;\">55892048</td><td style = \"text-align: right;\">1473359888351</td><td style = \"text-align: right;\">1473359888490</td><td style = \"text-align: left;\">a</td><td style = \"text-align: right;\">65</td></tr><tr><td class = \"rowNumber\" style = \"font-weight: bold; text-align: right;\">4</td><td style = \"text-align: right;\">107740</td><td style = \"text-align: right;\">1175419</td><td style = \"text-align: left;\">Have a good weekend.</td><td style = \"text-align: left;\">Have a good weekend.</td><td style = \"text-align: right;\">55892051</td><td style = \"text-align: right;\">1473359888554</td><td style = \"text-align: right;\">1473359888733</td><td style = \"text-align: left;\">v</td><td style = \"text-align: right;\">86</td></tr><tr><td class = \"rowNumber\" style = \"font-weight: bold; text-align: right;\">5</td><td style = \"text-align: right;\">107740</td><td style = \"text-align: right;\">1175419</td><td style = \"text-align: left;\">Have a good weekend.</td><td style = \"text-align: left;\">Have a good weekend.</td><td style = \"text-align: right;\">55892053</td><td style = \"text-align: right;\">1473359888726</td><td style = \"text-align: right;\">1473359888825</td><td style = \"text-align: left;\">e</td><td style = \"text-align: right;\">69</td></tr><tr><td class = \"rowNumber\" style = \"font-weight: bold; text-align: right;\">6</td><td style = \"text-align: right;\">107740</td><td style = \"text-align: right;\">1175419</td><td style = \"text-align: left;\">Have a good weekend.</td><td style = \"text-align: left;\">Have a good weekend.</td><td style = \"text-align: right;\">55892056</td><td style = \"text-align: right;\">1473359888889</td><td style = \"text-align: right;\">1473359888996</td><td style = \"text-align: left;\"> </td><td style = \"text-align: right;\">32</td></tr><tr><td class = \"rowNumber\" style = \"font-weight: bold; text-align: right;\">7</td><td style = \"text-align: right;\">107740</td><td style = \"text-align: right;\">1175419</td><td style = \"text-align: left;\">Have a good weekend.</td><td style = \"text-align: left;\">Have a good weekend.</td><td style = \"text-align: right;\">55892117</td><td style = \"text-align: right;\">1473359889040</td><td style = \"text-align: right;\">1473359889143</td><td style = \"text-align: left;\">a</td><td style = \"text-align: right;\">65</td></tr><tr><td class = \"rowNumber\" style = \"font-weight: bold; text-align: right;\">8</td><td style = \"text-align: right;\">107740</td><td style = \"text-align: right;\">1175419</td><td style = \"text-align: left;\">Have a good weekend.</td><td style = \"text-align: left;\">Have a good weekend.</td><td style = \"text-align: right;\">55892121</td><td style = \"text-align: right;\">1473359889184</td><td style = \"text-align: right;\">1473359889319</td><td style = \"text-align: left;\"> </td><td style = \"text-align: right;\">32</td></tr><tr><td class = \"rowNumber\" style = \"font-weight: bold; text-align: right;\">9</td><td style = \"text-align: right;\">107740</td><td style = \"text-align: right;\">1175419</td><td style = \"text-align: left;\">Have a good weekend.</td><td style = \"text-align: left;\">Have a good weekend.</td><td style = \"text-align: right;\">55892128</td><td style = \"text-align: right;\">1473359889654</td><td style = \"text-align: right;\">1473359889741</td><td style = \"text-align: left;\">g</td><td style = \"text-align: right;\">71</td></tr><tr><td class = \"rowNumber\" style = \"font-weight: bold; text-align: right;\">10</td><td style = \"text-align: right;\">107740</td><td style = \"text-align: right;\">1175419</td><td style = \"text-align: left;\">Have a good weekend.</td><td style = \"text-align: left;\">Have a good weekend.</td><td style = \"text-align: right;\">55892133</td><td style = \"text-align: right;\">1473359889777</td><td style = \"text-align: right;\">1473359889864</td><td style = \"text-align: left;\">o</td><td style = \"text-align: right;\">79</td></tr><tr><td class = \"rowNumber\" style = \"font-weight: bold; text-align: right;\">11</td><td style = \"text-align: right;\">107740</td><td style = \"text-align: right;\">1175419</td><td style = \"text-align: left;\">Have a good weekend.</td><td style = \"text-align: left;\">Have a good weekend.</td><td style = \"text-align: right;\">55892143</td><td style = \"text-align: right;\">1473359889946</td><td style = \"text-align: right;\">1473359890037</td><td style = \"text-align: left;\">o</td><td style = \"text-align: right;\">79</td></tr><tr><td class = \"rowNumber\" style = \"font-weight: bold; text-align: right;\">12</td><td style = \"text-align: right;\">107740</td><td style = \"text-align: right;\">1175419</td><td style = \"text-align: left;\">Have a good weekend.</td><td style = \"text-align: left;\">Have a good weekend.</td><td style = \"text-align: right;\">55892210</td><td style = \"text-align: right;\">1473359890170</td><td style = \"text-align: right;\">1473359890333</td><td style = \"text-align: left;\">d</td><td style = \"text-align: right;\">68</td></tr><tr><td class = \"rowNumber\" style = \"font-weight: bold; text-align: right;\">13</td><td style = \"text-align: right;\">107740</td><td style = \"text-align: right;\">1175419</td><td style = \"text-align: left;\">Have a good weekend.</td><td style = \"text-align: left;\">Have a good weekend.</td><td style = \"text-align: right;\">55892214</td><td style = \"text-align: right;\">1473359890351</td><td style = \"text-align: right;\">1473359890518</td><td style = \"text-align: left;\"> </td><td style = \"text-align: right;\">32</td></tr><tr><td style = \"text-align: right;\">&vellip;</td><td style = \"text-align: right;\">&vellip;</td><td style = \"text-align: right;\">&vellip;</td><td style = \"text-align: right;\">&vellip;</td><td style = \"text-align: right;\">&vellip;</td><td style = \"text-align: right;\">&vellip;</td><td style = \"text-align: right;\">&vellip;</td><td style = \"text-align: right;\">&vellip;</td><td style = \"text-align: right;\">&vellip;</td><td style = \"text-align: right;\">&vellip;</td></tr><tr><td class = \"rowNumber\" style = \"font-weight: bold; text-align: right;\">607</td><td style = \"text-align: right;\">107740</td><td style = \"text-align: right;\">1175685</td><td style = \"text-align: left;\">Hope you guys are doing fine.</td><td style = \"text-align: left;\">Hope you guys are doing fine.</td><td style = \"text-align: right;\">55904622</td><td style = \"text-align: right;\">1473360062353</td><td style = \"text-align: right;\">1473360062516</td><td style = \"text-align: left;\">d</td><td style = \"text-align: right;\">68</td></tr><tr><td class = \"rowNumber\" style = \"font-weight: bold; text-align: right;\">608</td><td style = \"text-align: right;\">107740</td><td style = \"text-align: right;\">1175685</td><td style = \"text-align: left;\">Hope you guys are doing fine.</td><td style = \"text-align: left;\">Hope you guys are doing fine.</td><td style = \"text-align: right;\">55904626</td><td style = \"text-align: right;\">1473360062429</td><td style = \"text-align: right;\">1473360062630</td><td style = \"text-align: left;\">o</td><td style = \"text-align: right;\">79</td></tr><tr><td class = \"rowNumber\" style = \"font-weight: bold; text-align: right;\">609</td><td style = \"text-align: right;\">107740</td><td style = \"text-align: right;\">1175685</td><td style = \"text-align: left;\">Hope you guys are doing fine.</td><td style = \"text-align: left;\">Hope you guys are doing fine.</td><td style = \"text-align: right;\">55904630</td><td style = \"text-align: right;\">1473360062625</td><td style = \"text-align: right;\">1473360062788</td><td style = \"text-align: left;\">i</td><td style = \"text-align: right;\">73</td></tr><tr><td class = \"rowNumber\" style = \"font-weight: bold; text-align: right;\">610</td><td style = \"text-align: right;\">107740</td><td style = \"text-align: right;\">1175685</td><td style = \"text-align: left;\">Hope you guys are doing fine.</td><td style = \"text-align: left;\">Hope you guys are doing fine.</td><td style = \"text-align: right;\">55904635</td><td style = \"text-align: right;\">1473360062765</td><td style = \"text-align: right;\">1473360062908</td><td style = \"text-align: left;\">n</td><td style = \"text-align: right;\">78</td></tr><tr><td class = \"rowNumber\" style = \"font-weight: bold; text-align: right;\">611</td><td style = \"text-align: right;\">107740</td><td style = \"text-align: right;\">1175685</td><td style = \"text-align: left;\">Hope you guys are doing fine.</td><td style = \"text-align: left;\">Hope you guys are doing fine.</td><td style = \"text-align: right;\">55904664</td><td style = \"text-align: right;\">1473360062900</td><td style = \"text-align: right;\">1473360063016</td><td style = \"text-align: left;\">g</td><td style = \"text-align: right;\">71</td></tr><tr><td class = \"rowNumber\" style = \"font-weight: bold; text-align: right;\">612</td><td style = \"text-align: right;\">107740</td><td style = \"text-align: right;\">1175685</td><td style = \"text-align: left;\">Hope you guys are doing fine.</td><td style = \"text-align: left;\">Hope you guys are doing fine.</td><td style = \"text-align: right;\">55904667</td><td style = \"text-align: right;\">1473360063040</td><td style = \"text-align: right;\">1473360063163</td><td style = \"text-align: left;\"> </td><td style = \"text-align: right;\">32</td></tr><tr><td class = \"rowNumber\" style = \"font-weight: bold; text-align: right;\">613</td><td style = \"text-align: right;\">107740</td><td style = \"text-align: right;\">1175685</td><td style = \"text-align: left;\">Hope you guys are doing fine.</td><td style = \"text-align: left;\">Hope you guys are doing fine.</td><td style = \"text-align: right;\">55904671</td><td style = \"text-align: right;\">1473360063228</td><td style = \"text-align: right;\">1473360063368</td><td style = \"text-align: left;\">f</td><td style = \"text-align: right;\">70</td></tr><tr><td class = \"rowNumber\" style = \"font-weight: bold; text-align: right;\">614</td><td style = \"text-align: right;\">107740</td><td style = \"text-align: right;\">1175685</td><td style = \"text-align: left;\">Hope you guys are doing fine.</td><td style = \"text-align: left;\">Hope you guys are doing fine.</td><td style = \"text-align: right;\">55904674</td><td style = \"text-align: right;\">1473360063337</td><td style = \"text-align: right;\">1473360063476</td><td style = \"text-align: left;\">i</td><td style = \"text-align: right;\">73</td></tr><tr><td class = \"rowNumber\" style = \"font-weight: bold; text-align: right;\">615</td><td style = \"text-align: right;\">107740</td><td style = \"text-align: right;\">1175685</td><td style = \"text-align: left;\">Hope you guys are doing fine.</td><td style = \"text-align: left;\">Hope you guys are doing fine.</td><td style = \"text-align: right;\">55904675</td><td style = \"text-align: right;\">1473360063545</td><td style = \"text-align: right;\">1473360063648</td><td style = \"text-align: left;\">n</td><td style = \"text-align: right;\">78</td></tr><tr><td class = \"rowNumber\" style = \"font-weight: bold; text-align: right;\">616</td><td style = \"text-align: right;\">107740</td><td style = \"text-align: right;\">1175685</td><td style = \"text-align: left;\">Hope you guys are doing fine.</td><td style = \"text-align: left;\">Hope you guys are doing fine.</td><td style = \"text-align: right;\">55904762</td><td style = \"text-align: right;\">1473360063674</td><td style = \"text-align: right;\">1473360063786</td><td style = \"text-align: left;\">n</td><td style = \"text-align: right;\">69</td></tr><tr><td class = \"rowNumber\" style = \"font-weight: bold; text-align: right;\">617</td><td style = \"text-align: right;\">107740</td><td style = \"text-align: right;\">1175685</td><td style = \"text-align: left;\">Hope you guys are doing fine.</td><td style = \"text-align: left;\">Hope you guys are doing fine.</td><td style = \"text-align: right;\">55904767</td><td style = \"text-align: right;\">1473360064239</td><td style = \"text-align: right;\">1473360064299</td><td style = \"text-align: left;\">BKSP</td><td style = \"text-align: right;\">8</td></tr><tr><td class = \"rowNumber\" style = \"font-weight: bold; text-align: right;\">618</td><td style = \"text-align: right;\">107740</td><td style = \"text-align: right;\">1175685</td><td style = \"text-align: left;\">Hope you guys are doing fine.</td><td style = \"text-align: left;\">Hope you guys are doing fine.</td><td style = \"text-align: right;\">55904772</td><td style = \"text-align: right;\">1473360064564</td><td style = \"text-align: right;\">1473360064720</td><td style = \"text-align: left;\">.</td><td style = \"text-align: right;\">190</td></tr></tbody></table></div>"
            ],
            "text/latex": "\\begin{tabular}{r|ccccc}\n\t& PARTICIPANT\\_ID & TEST\\_SECTION\\_ID & SENTENCE & USER\\_INPUT & \\\\\n\t\\hline\n\t& Int64? & Int64 & String? & String? & \\\\\n\t\\hline\n\t1 & 107740 & 1175419 & Have a good weekend. & Have a good weekend. & $\\dots$ \\\\\n\t2 & 107740 & 1175419 & Have a good weekend. & Have a good weekend. & $\\dots$ \\\\\n\t3 & 107740 & 1175419 & Have a good weekend. & Have a good weekend. & $\\dots$ \\\\\n\t4 & 107740 & 1175419 & Have a good weekend. & Have a good weekend. & $\\dots$ \\\\\n\t5 & 107740 & 1175419 & Have a good weekend. & Have a good weekend. & $\\dots$ \\\\\n\t6 & 107740 & 1175419 & Have a good weekend. & Have a good weekend. & $\\dots$ \\\\\n\t7 & 107740 & 1175419 & Have a good weekend. & Have a good weekend. & $\\dots$ \\\\\n\t8 & 107740 & 1175419 & Have a good weekend. & Have a good weekend. & $\\dots$ \\\\\n\t9 & 107740 & 1175419 & Have a good weekend. & Have a good weekend. & $\\dots$ \\\\\n\t10 & 107740 & 1175419 & Have a good weekend. & Have a good weekend. & $\\dots$ \\\\\n\t11 & 107740 & 1175419 & Have a good weekend. & Have a good weekend. & $\\dots$ \\\\\n\t12 & 107740 & 1175419 & Have a good weekend. & Have a good weekend. & $\\dots$ \\\\\n\t13 & 107740 & 1175419 & Have a good weekend. & Have a good weekend. & $\\dots$ \\\\\n\t14 & 107740 & 1175419 & Have a good weekend. & Have a good weekend. & $\\dots$ \\\\\n\t15 & 107740 & 1175419 & Have a good weekend. & Have a good weekend. & $\\dots$ \\\\\n\t16 & 107740 & 1175419 & Have a good weekend. & Have a good weekend. & $\\dots$ \\\\\n\t17 & 107740 & 1175419 & Have a good weekend. & Have a good weekend. & $\\dots$ \\\\\n\t18 & 107740 & 1175419 & Have a good weekend. & Have a good weekend. & $\\dots$ \\\\\n\t19 & 107740 & 1175419 & Have a good weekend. & Have a good weekend. & $\\dots$ \\\\\n\t20 & 107740 & 1175419 & Have a good weekend. & Have a good weekend. & $\\dots$ \\\\\n\t21 & 107740 & 1175419 & Have a good weekend. & Have a good weekend. & $\\dots$ \\\\\n\t22 & 107740 & 1175419 & Have a good weekend. & Have a good weekend. & $\\dots$ \\\\\n\t23 & 107740 & 1175419 & Have a good weekend. & Have a good weekend. & $\\dots$ \\\\\n\t24 & 107740 & 1175435 & There is now a meeting at 8PM as well. & There is now a meeting at 8PM as well & $\\dots$ \\\\\n\t25 & 107740 & 1175435 & There is now a meeting at 8PM as well. & There is now a meeting at 8PM as well & $\\dots$ \\\\\n\t26 & 107740 & 1175435 & There is now a meeting at 8PM as well. & There is now a meeting at 8PM as well & $\\dots$ \\\\\n\t27 & 107740 & 1175435 & There is now a meeting at 8PM as well. & There is now a meeting at 8PM as well & $\\dots$ \\\\\n\t28 & 107740 & 1175435 & There is now a meeting at 8PM as well. & There is now a meeting at 8PM as well & $\\dots$ \\\\\n\t29 & 107740 & 1175435 & There is now a meeting at 8PM as well. & There is now a meeting at 8PM as well & $\\dots$ \\\\\n\t30 & 107740 & 1175435 & There is now a meeting at 8PM as well. & There is now a meeting at 8PM as well & $\\dots$ \\\\\n\t$\\dots$ & $\\dots$ & $\\dots$ & $\\dots$ & $\\dots$ &  \\\\\n\\end{tabular}\n",
            "text/plain": [
              "\u001b[1m618×9 DataFrame\u001b[0m\n",
              "\u001b[1m Row \u001b[0m│\u001b[1m PARTICIPANT_ID \u001b[0m\u001b[1m TEST_SECTION_ID \u001b[0m\u001b[1m SENTENCE                      \u001b[0m\u001b[1m USER_IN\u001b[0m ⋯\n",
              "     │\u001b[90m Int64?         \u001b[0m\u001b[90m Int64           \u001b[0m\u001b[90m String?                       \u001b[0m\u001b[90m String?\u001b[0m ⋯\n",
              "─────┼──────────────────────────────────────────────────────────────────────────\n",
              "   1 │         107740          1175419  Have a good weekend.           Have a  ⋯\n",
              "   2 │         107740          1175419  Have a good weekend.           Have a\n",
              "   3 │         107740          1175419  Have a good weekend.           Have a\n",
              "   4 │         107740          1175419  Have a good weekend.           Have a\n",
              "   5 │         107740          1175419  Have a good weekend.           Have a  ⋯\n",
              "   6 │         107740          1175419  Have a good weekend.           Have a\n",
              "   7 │         107740          1175419  Have a good weekend.           Have a\n",
              "   8 │         107740          1175419  Have a good weekend.           Have a\n",
              "   9 │         107740          1175419  Have a good weekend.           Have a  ⋯\n",
              "  10 │         107740          1175419  Have a good weekend.           Have a\n",
              "  11 │         107740          1175419  Have a good weekend.           Have a\n",
              "  ⋮  │       ⋮                ⋮                       ⋮                        ⋱\n",
              " 609 │         107740          1175685  Hope you guys are doing fine.  Hope yo\n",
              " 610 │         107740          1175685  Hope you guys are doing fine.  Hope yo ⋯\n",
              " 611 │         107740          1175685  Hope you guys are doing fine.  Hope yo\n",
              " 612 │         107740          1175685  Hope you guys are doing fine.  Hope yo\n",
              " 613 │         107740          1175685  Hope you guys are doing fine.  Hope yo\n",
              " 614 │         107740          1175685  Hope you guys are doing fine.  Hope yo ⋯\n",
              " 615 │         107740          1175685  Hope you guys are doing fine.  Hope yo\n",
              " 616 │         107740          1175685  Hope you guys are doing fine.  Hope yo\n",
              " 617 │         107740          1175685  Hope you guys are doing fine.  Hope yo\n",
              " 618 │         107740          1175685  Hope you guys are doing fine.  Hope yo ⋯\n",
              "\u001b[36m                                                  6 columns and 597 rows omitted\u001b[0m"
            ]
          },
          "execution_count": 8,
          "metadata": {},
          "output_type": "execute_result"
        }
      ],
      "source": [
        "u_107740 =  DataFrame(CSV.File(\"Keystrokes/files/107740_keystrokes.txt\",delim=\"\\t\"))"
      ]
    },
    {
      "cell_type": "markdown",
      "metadata": {
        "id": "N0Fk8CS-A_Rm"
      },
      "source": [
        "We were able to read it because Julia CSV is smart and substitues everything with \"missing\", but as soon as we try to convert it into our format... "
      ]
    },
    {
      "cell_type": "code",
      "execution_count": null,
      "metadata": {
        "colab": {
          "base_uri": "https://localhost:8080/",
          "height": 533
        },
        "id": "uU5-SaiyEQ0z",
        "outputId": "490729df-4896-4dce-ebd2-ea8f7733ea58"
      },
      "outputs": [
        {
          "name": "stderr",
          "output_type": "stream",
          "text": [
            "┌ Error: Error adding value to column :PARTICIPANT_ID. Maybe it was forgotten to ask for column element type promotion, which can be done by passing the promote=true keyword argument.\n",
            "└ @ DataFrames /root/.julia/packages/DataFrames/bza1S/src/dataframe/insertion.jl:688\n"
          ]
        },
        {
          "ename": "LoadError",
          "evalue": "ignored",
          "output_type": "error",
          "traceback": [
            "MethodError: \u001b[0mCannot `convert` an object of type \u001b[92mMissing\u001b[39m\u001b[0m to an object of type \u001b[91mInt64\u001b[39m\n\u001b[0mClosest candidates are:\n\u001b[0m  convert(::Type{T}, \u001b[91m::Base.TwicePrecision\u001b[39m) where T<:Number at twiceprecision.jl:273\n\u001b[0m  convert(::Type{T}, \u001b[91m::AbstractChar\u001b[39m) where T<:Number at char.jl:185\n\u001b[0m  convert(::Type{T}, \u001b[91m::CartesianIndex{1}\u001b[39m) where T<:Number at multidimensional.jl:130\n\u001b[0m  ...",
            "",
            "Stacktrace:",
            " [1] push!(a::Vector{Int64}, item::Missing)",
            "   @ Base ./array.jl:1057",
            " [2] _row_inserter!(df::DataFrame, loc::Int64, row::Vector{Any}, mode::Val{:push}, promote::Bool)",
            "   @ DataFrames ~/.julia/packages/DataFrames/bza1S/src/dataframe/insertion.jl:657",
            " [3] #push!#330",
            "   @ ~/.julia/packages/DataFrames/bza1S/src/dataframe/insertion.jl:453 [inlined]",
            " [4] push!(df::DataFrame, row::Vector{Any})",
            "   @ DataFrames ~/.julia/packages/DataFrames/bza1S/src/dataframe/insertion.jl:453",
            " [5] convert_user_df(df::DataFrame)",
            "   @ Main ./In[6]:28",
            " [6] top-level scope",
            "   @ In[9]:2",
            " [7] eval",
            "   @ ./boot.jl:368 [inlined]",
            " [8] include_string(mapexpr::typeof(REPL.softscope), mod::Module, code::String, filename::String)",
            "   @ Base ./loading.jl:1428"
          ]
        }
      ],
      "source": [
        "u_107740 = convert_user_df(u_107740)"
      ]
    },
    {
      "cell_type": "markdown",
      "metadata": {
        "id": "NuVLIArCBWBV"
      },
      "source": [
        "We get an error since there is basically a line with no fields. The solution to this is to call the python function written for the purpose of modifying the file in the correct way and the retry:"
      ]
    },
    {
      "cell_type": "code",
      "execution_count": null,
      "metadata": {
        "colab": {
          "base_uri": "https://localhost:8080/",
          "height": 1000
        },
        "id": "XJGG3z4UBhz0",
        "outputId": "05321042-bef3-455e-8c5b-c57a17ad33c0"
      },
      "outputs": [
        {
          "data": {
            "text/html": [
              "<div><div style = \"float: left;\"><span>15×5 DataFrame</span></div><div style = \"clear: both;\"></div></div><div class = \"data-frame\" style = \"overflow-x: scroll;\"><table class = \"data-frame\" style = \"margin-bottom: 6px;\"><thead><tr class = \"header\"><th class = \"rowNumber\" style = \"font-weight: bold; text-align: right;\">Row</th><th style = \"text-align: left;\">PARTICIPANT_ID</th><th style = \"text-align: left;\">TEST_SECTION_ID</th><th style = \"text-align: left;\">SENTENCE</th><th style = \"text-align: left;\">USER_INPUT</th><th style = \"text-align: left;\">TIMINGS</th></tr><tr class = \"subheader headerLastRow\"><th class = \"rowNumber\" style = \"font-weight: bold; text-align: right;\"></th><th title = \"Int64\" style = \"text-align: left;\">Int64</th><th title = \"Int64\" style = \"text-align: left;\">Int64</th><th title = \"String\" style = \"text-align: left;\">String</th><th title = \"String\" style = \"text-align: left;\">String</th><th title = \"Any\" style = \"text-align: left;\">Any</th></tr></thead><tbody><tr><td class = \"rowNumber\" style = \"font-weight: bold; text-align: right;\">1</td><td style = \"text-align: right;\">107740</td><td style = \"text-align: right;\">1175618</td><td style = \"text-align: left;\">Jones executive vice president and chief operating officer.</td><td style = \"text-align: left;\">Jones executive vice president and chief operating officer.</td><td style = \"text-align: left;\">Any[(String7(&quot;SHIFT&quot;), 16, 520, 0), (String7(&quot;J&quot;), 74, 105, -81), (String7(&quot;o&quot;), 79, 171, 108), (String7(&quot;n&quot;), 78, 138, 13), (String7(&quot;e&quot;), 69, 111, -6), (String7(&quot;s&quot;), 83, 87, 102), (String7(&quot; &quot;), 32, 139, 65), (String7(&quot;e&quot;), 69, 100, 47), (String7(&quot;x&quot;), 88, 119, 468), (String7(&quot;e&quot;), 69, 115, 122)  …  (String7(&quot;g&quot;), 71, 108, -7), (String7(&quot; &quot;), 32, 148, 19), (String7(&quot;o&quot;), 79, 140, 203), (String7(&quot;f&quot;), 70, 136, 4), (String7(&quot;f&quot;), 70, 76, 103), (String7(&quot;i&quot;), 73, 152, 56), (String7(&quot;c&quot;), 67, 148, 42), (String7(&quot;e&quot;), 69, 239, 79), (String7(&quot;r&quot;), 82, 144, -75), (String7(&quot;.&quot;), 190, 132, 519)]</td></tr><tr><td class = \"rowNumber\" style = \"font-weight: bold; text-align: right;\">2</td><td style = \"text-align: right;\">107740</td><td style = \"text-align: right;\">1175514</td><td style = \"text-align: left;\">I think those are the right dates.</td><td style = \"text-align: left;\">I think those are the right dates.</td><td style = \"text-align: left;\">Any[(String7(&quot;SHIFT&quot;), 16, 788, 0), (String7(&quot;I&quot;), 73, 84, -88), (String7(&quot; &quot;), 32, 107, 135), (String7(&quot;t&quot;), 84, 91, 39), (String7(&quot;h&quot;), 72, 87, -23), (String7(&quot;i&quot;), 73, 115, 156), (String7(&quot;n&quot;), 78, 119, 44), (String7(&quot;k&quot;), 75, 103, 38), (String7(&quot; &quot;), 32, 132, 76), (String7(&quot;t&quot;), 84, 97, -8)  …  (String7(&quot;g&quot;), 71, 108, 68), (String7(&quot;h&quot;), 72, 139, 82), (String7(&quot;t&quot;), 84, 107, 49), (String7(&quot; &quot;), 32, 172, 81), (String7(&quot;d&quot;), 68, 164, 227), (String7(&quot;a&quot;), 65, 164, 75), (String7(&quot;t&quot;), 84, 135, 106), (String7(&quot;e&quot;), 69, 76, 4), (String7(&quot;s&quot;), 83, 128, 176), (String7(&quot;.&quot;), 190, 76, 219)]</td></tr><tr><td class = \"rowNumber\" style = \"font-weight: bold; text-align: right;\">3</td><td style = \"text-align: right;\">107740</td><td style = \"text-align: right;\">1175648</td><td style = \"text-align: left;\">Don&apos;t forget the wood.</td><td style = \"text-align: left;\">Don&apos;t forget the wood.</td><td style = \"text-align: left;\">Any[(String7(&quot;SHIFT&quot;), 16, 300, 0), (String7(&quot;D&quot;), 68, 131, -103), (String7(&quot;o&quot;), 79, 143, 81), (String7(&quot;n&quot;), 78, 156, 13), (String7(&quot;t&quot;), 84, 103, 1), (String7(&quot;;&quot;), 186, 199, 164), (String7(&quot;BKSP&quot;), 8, 139, 324), (String7(&quot;BKSP&quot;), 8, 97, 335), (String7(&quot;&apos;&quot;), 222, 108, 444), (String7(&quot;t&quot;), 84, 103, -8)  …  (String7(&quot; &quot;), 32, 103, 43), (String7(&quot;t&quot;), 84, 99, 17), (String7(&quot;h&quot;), 72, 111, 9), (String7(&quot;e&quot;), 69, 111, -27), (String7(&quot; &quot;), 32, 111, 26), (String7(&quot;w&quot;), 87, 35, 89), (String7(&quot;o&quot;), 79, 91, 152), (String7(&quot;o&quot;), 79, 91, 100), (String7(&quot;d&quot;), 68, 139, 193), (String7(&quot;.&quot;), 190, 103, 240)]</td></tr><tr><td class = \"rowNumber\" style = \"font-weight: bold; text-align: right;\">4</td><td style = \"text-align: right;\">107740</td><td style = \"text-align: right;\">1175501</td><td style = \"text-align: left;\">We are all fragile.</td><td style = \"text-align: left;\">We are all fragile.</td><td style = \"text-align: left;\">Any[(String7(&quot;SHIFT&quot;), 16, 400, 0), (String7(&quot;W&quot;), 87, 128, -72), (String7(&quot;e&quot;), 69, 99, 71), (String7(&quot; &quot;), 32, 131, 93), (String7(&quot;a&quot;), 65, 123, 166), (String7(&quot;r&quot;), 82, 91, 100), (String7(&quot;e&quot;), 69, 100, 400), (String7(&quot; &quot;), 32, 123, 53), (String7(&quot;a&quot;), 65, 59, 23), (String7(&quot;l&quot;), 76, 90, 114), (String7(&quot;l&quot;), 76, 81, 93), (String7(&quot; &quot;), 32, 111, 115), (String7(&quot;f&quot;), 70, 107, 430), (String7(&quot;r&quot;), 82, 95, 68), (String7(&quot;a&quot;), 65, 199, 227), (String7(&quot;g&quot;), 71, 106, 149), (String7(&quot;i&quot;), 73, 91, 252), (String7(&quot;l&quot;), 76, 167, 358), (String7(&quot;e&quot;), 69, 119, -43), (String7(&quot;.&quot;), 190, 83, 369)]</td></tr><tr><td class = \"rowNumber\" style = \"font-weight: bold; text-align: right;\">5</td><td style = \"text-align: right;\">107740</td><td style = \"text-align: right;\">1175419</td><td style = \"text-align: left;\">Have a good weekend.</td><td style = \"text-align: left;\">Have a good weekend.</td><td style = \"text-align: left;\">Any[(String7(&quot;SHIFT&quot;), 16, 455, 0), (String7(&quot;H&quot;), 72, 159, -151), (String7(&quot;a&quot;), 65, 139, 92), (String7(&quot;v&quot;), 86, 179, 64), (String7(&quot;e&quot;), 69, 99, -7), (String7(&quot; &quot;), 32, 107, 64), (String7(&quot;a&quot;), 65, 103, 44), (String7(&quot; &quot;), 32, 135, 41), (String7(&quot;g&quot;), 71, 87, 335), (String7(&quot;o&quot;), 79, 87, 36)  …  (String7(&quot;w&quot;), 87, 127, 32), (String7(&quot;e&quot;), 69, 95, 99), (String7(&quot;e&quot;), 69, 118, 214), (String7(&quot;k&quot;), 75, 155, 75), (String7(&quot;e&quot;), 69, 115, -7), (String7(&quot;n&quot;), 78, 131, 106), (String7(&quot;d&quot;), 68, 103, 29), (String7(&quot;,&quot;), 188, 151, 56), (String7(&quot;BKSP&quot;), 8, 75, 346), (String7(&quot;.&quot;), 190, 159, 112)]</td></tr><tr><td class = \"rowNumber\" style = \"font-weight: bold; text-align: right;\">6</td><td style = \"text-align: right;\">107740</td><td style = \"text-align: right;\">1175481</td><td style = \"text-align: left;\">Hopefully this can wait until Monday.</td><td style = \"text-align: left;\">Hopefully this can wait until Monday.</td><td style = \"text-align: left;\">Any[(String7(&quot;SHIFT&quot;), 16, 392, 0), (String7(&quot;H&quot;), 72, 115, -107), (String7(&quot;o&quot;), 79, 131, 76), (String7(&quot;p&quot;), 80, 143, 181), (String7(&quot;e&quot;), 69, 119, 270), (String7(&quot;f&quot;), 70, 111, 847), (String7(&quot;u&quot;), 85, 103, 24), (String7(&quot;l&quot;), 76, 132, 255), (String7(&quot;y&quot;), 89, 123, 118), (String7(&quot; &quot;), 32, 147, 45)  …  (String7(&quot;l&quot;), 76, 147, 106), (String7(&quot; &quot;), 32, 127, 47), (String7(&quot;SHIFT&quot;), 16, 212, 267), (String7(&quot;M&quot;), 77, 107, -79), (String7(&quot;o&quot;), 79, 107, 505), (String7(&quot;n&quot;), 78, 127, 69), (String7(&quot;d&quot;), 68, 131, 74), (String7(&quot;a&quot;), 65, 123, 150), (String7(&quot;y&quot;), 89, 91, 13), (String7(&quot;.&quot;), 190, 131, 557)]</td></tr><tr><td class = \"rowNumber\" style = \"font-weight: bold; text-align: right;\">7</td><td style = \"text-align: right;\">107740</td><td style = \"text-align: right;\">1175526</td><td style = \"text-align: left;\">This time I&apos;m more comfortable and aware of a lot more situations.</td><td style = \"text-align: left;\">This time I&apos;m more comfortable and aware of a lot more situations. </td><td style = \"text-align: left;\">Any[(String7(&quot;SHIFT&quot;), 16, 467, 0), (String7(&quot;T&quot;), 84, 112, -119), (String7(&quot;h&quot;), 72, 104, 132), (String7(&quot;s&quot;), 83, 112, 352), (String7(&quot;BKSP&quot;), 8, 99, 249), (String7(&quot;i&quot;), 73, 103, 156), (String7(&quot;s&quot;), 83, 104, 9), (String7(&quot; &quot;), 32, 131, 23), (String7(&quot;t&quot;), 84, 119, 101), (String7(&quot;i&quot;), 73, 120, -7)  …  (String7(&quot;t&quot;), 84, 87, 56), (String7(&quot;u&quot;), 85, 135, 438), (String7(&quot;a&quot;), 65, 87, 47), (String7(&quot;t&quot;), 84, 99, 193), (String7(&quot;i&quot;), 73, 106, 289), (String7(&quot;o&quot;), 79, 178, 608), (String7(&quot;n&quot;), 78, 175, -31), (String7(&quot;s&quot;), 83, 163, 9), (String7(&quot;.&quot;), 190, 165, 433), (String7(&quot; &quot;), 32, 91, 50)]</td></tr><tr><td class = \"rowNumber\" style = \"font-weight: bold; text-align: right;\">8</td><td style = \"text-align: right;\">107740</td><td style = \"text-align: right;\">1175603</td><td style = \"text-align: left;\">It is not surprising.</td><td style = \"text-align: left;\">It is not surprising.</td><td style = \"text-align: left;\">Any[(String7(&quot;SHIFT&quot;), 16, 282, 0), (String7(&quot;I&quot;), 73, 58, -57), (String7(&quot;t&quot;), 84, 115, 202), (String7(&quot; &quot;), 32, 109, 67), (String7(&quot;i&quot;), 73, 146, 48), (String7(&quot;s&quot;), 83, 111, -11), (String7(&quot; &quot;), 32, 83, 9), (String7(&quot;n&quot;), 78, 143, 367), (String7(&quot;o&quot;), 79, 155, 13), (String7(&quot;t&quot;), 84, 107, 17)  …  (String7(&quot;o&quot;), 79, 56, 59), (String7(&quot;BKSP&quot;), 8, 66, 386), (String7(&quot;p&quot;), 80, 147, 836), (String7(&quot;r&quot;), 82, 115, -19), (String7(&quot;i&quot;), 73, 98, 449), (String7(&quot;s&quot;), 83, 107, 40), (String7(&quot;i&quot;), 73, 95, 17), (String7(&quot;n&quot;), 78, 151, 70), (String7(&quot;g&quot;), 71, 139, -63), (String7(&quot;.&quot;), 190, 151, 651)]</td></tr><tr><td class = \"rowNumber\" style = \"font-weight: bold; text-align: right;\">9</td><td style = \"text-align: right;\">107740</td><td style = \"text-align: right;\">1175582</td><td style = \"text-align: left;\">He doesn&apos;t want to give the trading positions.</td><td style = \"text-align: left;\">He doesn&apos;t want to give the trading positions.</td><td style = \"text-align: left;\">Any[(String7(&quot;SHIFT&quot;), 16, 508, 0), (String7(&quot;H&quot;), 72, 79, -47), (String7(&quot;e&quot;), 69, 99, 75), (String7(&quot; &quot;), 32, 143, 106), (String7(&quot;d&quot;), 68, 159, 201), (String7(&quot;o&quot;), 79, 135, 18), (String7(&quot;e&quot;), 69, 91, 17), (String7(&quot;s&quot;), 83, 87, 319), (String7(&quot;n&quot;), 78, 59, 377), (String7(&quot;&apos;&quot;), 222, 70, 516)  …  (String7(&quot;p&quot;), 80, 243, 165), (String7(&quot;o&quot;), 79, 106, -14), (String7(&quot;s&quot;), 83, 147, 82), (String7(&quot;i&quot;), 73, 179, 512), (String7(&quot;t&quot;), 84, 111, 22), (String7(&quot;i&quot;), 73, 399, 65), (String7(&quot;o&quot;), 79, 167, -147), (String7(&quot;n&quot;), 78, 193, 17), (String7(&quot;s&quot;), 83, 135, -25), (String7(&quot;.&quot;), 190, 107, 665)]</td></tr><tr><td class = \"rowNumber\" style = \"font-weight: bold; text-align: right;\">10</td><td style = \"text-align: right;\">107740</td><td style = \"text-align: right;\">1175685</td><td style = \"text-align: left;\">Hope you guys are doing fine.</td><td style = \"text-align: left;\">Hope you guys are doing fine.</td><td style = \"text-align: left;\">Any[(String7(&quot;SHIFT&quot;), 16, 518, 0), (String7(&quot;H&quot;), 72, 84, -65), (String7(&quot;o&quot;), 79, 167, 129), (String7(&quot;p&quot;), 80, 160, 140), (String7(&quot;e&quot;), 69, 99, 13), (String7(&quot; &quot;), 32, 139, 27), (String7(&quot;o&quot;), 79, 99, 292), (String7(&quot;BKSP&quot;), 8, 99, 294), (String7(&quot;u&quot;), 85, 118, 127), (String7(&quot;o&quot;), 79, 103, 125)  …  (String7(&quot;o&quot;), 79, 201, -87), (String7(&quot;i&quot;), 73, 163, -5), (String7(&quot;n&quot;), 78, 143, -23), (String7(&quot;g&quot;), 71, 116, -8), (String7(&quot; &quot;), 32, 123, 24), (String7(&quot;f&quot;), 70, 140, 65), (String7(&quot;i&quot;), 73, 139, -31), (String7(&quot;n&quot;), 78, 103, 69), (String7(&quot;n&quot;), 69, 112, 26), (String7(&quot;BKSP&quot;), 8, 60, 453)]</td></tr><tr><td class = \"rowNumber\" style = \"font-weight: bold; text-align: right;\">11</td><td style = \"text-align: right;\">107740</td><td style = \"text-align: right;\">1175558</td><td style = \"text-align: left;\">In a meeting with your guys now.</td><td style = \"text-align: left;\">In a meeting with your guys now.</td><td style = \"text-align: left;\">Any[(missing, 13, 71, 0), (missing, 13, 71, -71), (String7(&quot;SHIFT&quot;), 16, 410, 1402), (String7(&quot;I&quot;), 73, 152, -159), (String7(&quot;n&quot;), 78, 112, 47), (String7(&quot; &quot;), 32, 111, 139), (String7(&quot;a&quot;), 65, 100, 31), (String7(&quot; &quot;), 32, 128, 60), (String7(&quot;m&quot;), 77, 148, 174), (String7(&quot;e&quot;), 69, 120, 16)  …  (String7(&quot;u&quot;), 85, 76, 13), (String7(&quot;y&quot;), 89, 123, 93), (String7(&quot;s&quot;), 83, 124, 514), (String7(&quot; &quot;), 32, 124, 47), (String7(&quot;n&quot;), 78, 111, 80), (String7(&quot;o&quot;), 79, 183, 45), (String7(&quot;w&quot;), 87, 119, -7), (String7(&quot;.&quot;), 190, 96, 346), (String7(&quot; &quot;), 32, 75, 89), (String7(&quot;BKSP&quot;), 8, 75, 344)]</td></tr><tr><td class = \"rowNumber\" style = \"font-weight: bold; text-align: right;\">12</td><td style = \"text-align: right;\">107740</td><td style = \"text-align: right;\">1175662</td><td style = \"text-align: left;\">Hence the importannce of the media bidding battle in Britain.</td><td style = \"text-align: left;\">Hence the importance of the media bidding battle in Britain.</td><td style = \"text-align: left;\">Any[(String7(&quot;SHIFT&quot;), 16, 328, 0), (String7(&quot;H&quot;), 72, 91, -47), (String7(&quot;e&quot;), 69, 112, 51), (String7(&quot;n&quot;), 78, 150, 107), (String7(&quot;c&quot;), 67, 146, -4), (String7(&quot;e&quot;), 69, 118, 117), (String7(&quot; &quot;), 32, 111, 18), (String7(&quot;t&quot;), 84, 122, 13), (String7(&quot;h&quot;), 72, 122, -46), (String7(&quot;e&quot;), 69, 115, -6)  …  (String7(&quot;a&quot;), 65, 83, 55), (String7(&quot;BKSP&quot;), 8, 11, 237), (String7(&quot;BKSP&quot;), 8, 95, 76), (String7(&quot;a&quot;), 65, 76, 30), (String7(&quot;n&quot;), 78, 143, 279), (String7(&quot;BKSP&quot;), 8, 103, 321), (String7(&quot;i&quot;), 73, 147, 111), (String7(&quot;n&quot;), 78, 39, 143), (String7(&quot;.&quot;), 190, 147, 175), (String7(&quot;SHIFT&quot;), 16, 208, 886)]</td></tr><tr><td class = \"rowNumber\" style = \"font-weight: bold; text-align: right;\">13</td><td style = \"text-align: right;\">107740</td><td style = \"text-align: right;\">1175458</td><td style = \"text-align: left;\">I&apos;ll get you one.</td><td style = \"text-align: left;\">I&apos;ll get you one.</td><td style = \"text-align: left;\">Any[(String7(&quot;SHIFT&quot;), 16, 628, 0), (String7(&quot;I&quot;), 73, 60, -75), (String7(&quot;&apos;&quot;), 222, 68, 690), (String7(&quot;l&quot;), 76, 56, 278), (String7(&quot;l&quot;), 76, 100, 63), (String7(&quot; &quot;), 32, 128, 545), (String7(&quot;g&quot;), 71, 83, 261), (String7(&quot;e&quot;), 69, 115, 13), (String7(&quot;t&quot;), 84, 152, 121), (String7(&quot; &quot;), 32, 127, 1), (String7(&quot;y&quot;), 89, 111, 52), (String7(&quot;o&quot;), 79, 199, -7), (String7(&quot;u&quot;), 85, 138, -45), (String7(&quot; &quot;), 32, 98, 412), (String7(&quot;o&quot;), 79, 171, 104), (String7(&quot;n&quot;), 78, 98, -5), (String7(&quot;e&quot;), 69, 107, 45), (String7(&quot;.&quot;), 190, 96, 226)]</td></tr><tr><td class = \"rowNumber\" style = \"font-weight: bold; text-align: right;\">14</td><td style = \"text-align: right;\">107740</td><td style = \"text-align: right;\">1175435</td><td style = \"text-align: left;\">There is now a meeting at 8PM as well.</td><td style = \"text-align: left;\">There is now a meeting at 8PM as well</td><td style = \"text-align: left;\">Any[(String7(&quot;SHIFT&quot;), 16, 340, 0), (String7(&quot;T&quot;), 84, 152, -108), (String7(&quot;h&quot;), 72, 143, 92), (String7(&quot;e&quot;), 69, 131, -11), (String7(&quot;r&quot;), 82, 95, 57), (String7(&quot;e&quot;), 69, 112, 58), (String7(&quot; &quot;), 32, 107, 39), (String7(&quot;i&quot;), 73, 139, 55), (String7(&quot;s&quot;), 83, 135, -23), (String7(&quot; &quot;), 32, 107, -27)  …  (String7(&quot;SHIFT&quot;), 16, 384, 84), (String7(&quot;M&quot;), 77, 183, -255), (String7(&quot; &quot;), 32, 99, 115), (String7(&quot;a&quot;), 65, 139, 81), (String7(&quot;s&quot;), 83, 151, -43), (String7(&quot; &quot;), 32, 95, 13), (String7(&quot;w&quot;), 87, 112, 21), (String7(&quot;e&quot;), 69, 135, 46), (String7(&quot;l&quot;), 76, 92, 42), (String7(&quot;l&quot;), 76, 92, 77)]</td></tr><tr><td class = \"rowNumber\" style = \"font-weight: bold; text-align: right;\">15</td><td style = \"text-align: right;\">107740</td><td style = \"text-align: right;\">1175471</td><td style = \"text-align: left;\">Thanks for checking with me.</td><td style = \"text-align: left;\">Thanks for checking with me.</td><td style = \"text-align: left;\">Any[(String7(&quot;SHIFT&quot;), 16, 495, 0), (String7(&quot;T&quot;), 84, 103, -102), (String7(&quot;h&quot;), 72, 95, 87), (String7(&quot;a&quot;), 65, 139, 71), (String7(&quot;n&quot;), 78, 151, 9), (String7(&quot;k&quot;), 75, 163, -7), (String7(&quot;s&quot;), 83, 90, -25), (String7(&quot; &quot;), 32, 123, 64), (String7(&quot;f&quot;), 70, 146, 29), (String7(&quot;o&quot;), 79, 107, -22)  …  (String7(&quot;g&quot;), 71, 99, -19), (String7(&quot; &quot;), 32, 135, 36), (String7(&quot;w&quot;), 87, 99, 36), (String7(&quot;i&quot;), 73, 207, 49), (String7(&quot;t&quot;), 84, 91, -43), (String7(&quot;h&quot;), 72, 87, 19), (String7(&quot; &quot;), 32, 95, 130), (String7(&quot;m&quot;), 77, 139, 83), (String7(&quot;e&quot;), 69, 103, -19), (String7(&quot;.&quot;), 190, 159, 59)]</td></tr></tbody></table></div>"
            ],
            "text/latex": "\\begin{tabular}{r|cccc}\n\t& PARTICIPANT\\_ID & TEST\\_SECTION\\_ID & SENTENCE & \\\\\n\t\\hline\n\t& Int64 & Int64 & String & \\\\\n\t\\hline\n\t1 & 107740 & 1175618 & Jones executive vice president and chief operating officer. & $\\dots$ \\\\\n\t2 & 107740 & 1175514 & I think those are the right dates. & $\\dots$ \\\\\n\t3 & 107740 & 1175648 & Don't forget the wood. & $\\dots$ \\\\\n\t4 & 107740 & 1175501 & We are all fragile. & $\\dots$ \\\\\n\t5 & 107740 & 1175419 & Have a good weekend. & $\\dots$ \\\\\n\t6 & 107740 & 1175481 & Hopefully this can wait until Monday. & $\\dots$ \\\\\n\t7 & 107740 & 1175526 & This time I'm more comfortable and aware of a lot more situations. & $\\dots$ \\\\\n\t8 & 107740 & 1175603 & It is not surprising. & $\\dots$ \\\\\n\t9 & 107740 & 1175582 & He doesn't want to give the trading positions. & $\\dots$ \\\\\n\t10 & 107740 & 1175685 & Hope you guys are doing fine. & $\\dots$ \\\\\n\t11 & 107740 & 1175558 & In a meeting with your guys now. & $\\dots$ \\\\\n\t12 & 107740 & 1175662 & Hence the importannce of the media bidding battle in Britain. & $\\dots$ \\\\\n\t13 & 107740 & 1175458 & I'll get you one. & $\\dots$ \\\\\n\t14 & 107740 & 1175435 & There is now a meeting at 8PM as well. & $\\dots$ \\\\\n\t15 & 107740 & 1175471 & Thanks for checking with me. & $\\dots$ \\\\\n\\end{tabular}\n",
            "text/plain": [
              "\u001b[1m15×5 DataFrame\u001b[0m\n",
              "\u001b[1m Row \u001b[0m│\u001b[1m PARTICIPANT_ID \u001b[0m\u001b[1m TEST_SECTION_ID \u001b[0m\u001b[1m SENTENCE                          \u001b[0m\u001b[1m USE\u001b[0m ⋯\n",
              "     │\u001b[90m Int64          \u001b[0m\u001b[90m Int64           \u001b[0m\u001b[90m String                            \u001b[0m\u001b[90m Str\u001b[0m ⋯\n",
              "─────┼──────────────────────────────────────────────────────────────────────────\n",
              "   1 │         107740          1175618  Jones executive vice president a…  Jon ⋯\n",
              "   2 │         107740          1175514  I think those are the right date…  I t\n",
              "   3 │         107740          1175648  Don't forget the wood.             Don\n",
              "   4 │         107740          1175501  We are all fragile.                We\n",
              "   5 │         107740          1175419  Have a good weekend.               Hav ⋯\n",
              "   6 │         107740          1175481  Hopefully this can wait until Mo…  Hop\n",
              "   7 │         107740          1175526  This time I'm more comfortable a…  Thi\n",
              "   8 │         107740          1175603  It is not surprising.              It\n",
              "   9 │         107740          1175582  He doesn't want to give the trad…  He  ⋯\n",
              "  10 │         107740          1175685  Hope you guys are doing fine.      Hop\n",
              "  11 │         107740          1175558  In a meeting with your guys now.   In\n",
              "  12 │         107740          1175662  Hence the importannce of the med…  Hen\n",
              "  13 │         107740          1175458  I'll get you one.                  I'l ⋯\n",
              "  14 │         107740          1175435  There is now a meeting at 8PM as…  The\n",
              "  15 │         107740          1175471  Thanks for checking with me.       Tha\n",
              "\u001b[36m                                                               2 columns omitted\u001b[0m"
            ]
          },
          "execution_count": 10,
          "metadata": {},
          "output_type": "execute_result"
        }
      ],
      "source": [
        "py\"fix_file\"(\"Keystrokes/files/107740_keystrokes.txt\")\n",
        "u_107740 =  DataFrame(CSV.File(\"Keystrokes/files/107740_keystrokes.txt\",delim=\"\\t\"))\n",
        "u_107740 = convert_user_df(u_107740)"
      ]
    },
    {
      "cell_type": "markdown",
      "metadata": {
        "id": "FIq_ZMOtB_Tu"
      },
      "source": [
        "### Data conversion\n",
        "Now we can finally preprocess all the files in our format."
      ]
    },
    {
      "cell_type": "code",
      "source": [
        "; mkdir Keystrokes_formatted"
      ],
      "metadata": {
        "id": "AoBByvtfIvhJ"
      },
      "execution_count": null,
      "outputs": []
    },
    {
      "cell_type": "code",
      "execution_count": null,
      "metadata": {
        "id": "SNbaNDLS6j2C"
      },
      "outputs": [],
      "source": [
        "path = \"Keystrokes/files/\"\n",
        "n = length(readdir(path))\n",
        "ProgressMeter.ijulia_behavior(:clear) # hide warnings of the progress bar\n",
        "p = Progress(n, dt=0.5, barglyphs=BarGlyphs(\"[=> ]\"), barlen=50, color=:red)\n",
        "for (i,file) in collect(enumerate(readdir(path)))\n",
        "    if occursin(\"keystrokes\",file) # it is a user file\n",
        "        try\n",
        "            df = DataFrame(CSV.File(\"Keystrokes/files/\"*file, delim=\"\\t\",quoted=false,ignorerepeated=true, silencewarnings=true))\n",
        "            df = convert_user_df(df)\n",
        "        catch e # error found, correct it and retry\n",
        "            py\"fix_file\"(\"Keystrokes/files/\"*file)\n",
        "            df = DataFrame(CSV.File(\"Keystrokes/files/\"*file, delim=\"\\t\",quoted=false,ignorerepeated=true, silencewarnings=true))\n",
        "            df = convert_user_df(df)\n",
        "        finally\n",
        "            CSV.write(\"Keystrokes_formatted/\"*file,df,delim=\",\",append=true)\n",
        "        end\n",
        "    end\n",
        "    ProgressMeter.next!(p,showvalues = [(:iter,i), (:tot,n)])\n",
        "end\n"
      ]
    }
  ],
  "metadata": {
    "colab": {
      "collapsed_sections": [
        "iEJxn9IKkE6D",
        "rsMB8aSEkDmG",
        "HY-BDPeozTeQ"
      ],
      "provenance": [],
      "include_colab_link": true
    },
    "gpuClass": "standard",
    "kernelspec": {
      "display_name": "Julia",
      "language": "julia",
      "name": "julia"
    },
    "language_info": {
      "file_extension": ".jl",
      "mimetype": "application/julia",
      "name": "julia"
    }
  },
  "nbformat": 4,
  "nbformat_minor": 0
}